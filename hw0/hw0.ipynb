{
 "cells": [
  {
   "cell_type": "markdown",
   "metadata": {},
   "source": [
    "### Visualization by highchart\n",
    "- 參考助教final_report中Part III 視覺化呈現研究結果之section I & section II\n",
    "- 將政治事件用flag顯示在政治人物聲量圖上，方便觀察事件對人物聲量的影響"
   ]
  },
  {
   "cell_type": "code",
   "execution_count": 2,
   "metadata": {},
   "outputs": [],
   "source": [
    "# import packages\n",
    "from highcharts import Highstock\n",
    "import operator\n",
    "from datetime import datetime, timedelta\n",
    "import json"
   ]
  },
  {
   "cell_type": "code",
   "execution_count": 3,
   "metadata": {},
   "outputs": [],
   "source": [
    "people = json.loads(open('../data/people_tfdf_dict.json').read())\n",
    "events = json.loads(open('../data/event_tfdf_dict.json').read())"
   ]
  },
  {
   "cell_type": "code",
   "execution_count": 7,
   "metadata": {},
   "outputs": [
    {
     "data": {
      "text/html": [
       "<iframe style=\"border:0;outline:none;overflow:hidden\" srcdoc=\"&lt;!DOCTYPE html&gt; &lt;html lang=&quot;en&quot;&gt; &lt;head&gt; &lt;meta charset=&quot;utf-8&quot; /&gt; &lt;link href=&quot;https://www.highcharts.com/highslide/highslide.css&quot; rel=&quot;stylesheet&quot; /&gt; &lt;script type=&quot;text/javascript&quot; src=&quot;https://ajax.googleapis.com/ajax/libs/jquery/1.9.1/jquery.min.js&quot;&gt;&lt;/script&gt; &lt;script type=&quot;text/javascript&quot; src=&quot;https://code.highcharts.com/stock/6/highstock.js&quot;&gt;&lt;/script&gt; &lt;script type=&quot;text/javascript&quot; src=&quot;https://code.highcharts.com/stock/6/modules/exporting.js&quot;&gt;&lt;/script&gt; &lt;script type=&quot;text/javascript&quot; src=&quot;https://code.highcharts.com/6/highcharts-more.js&quot;&gt;&lt;/script&gt; &lt;/head&gt; &lt;body style=&quot;margin:0;padding:0&quot;&gt; &lt;div id=&quot;container&quot; style=&quot;&quot;&gt;Loading....&lt;/div&gt; &lt;script&gt; $(function(){ Highcharts.setOptions({&quot;global&quot;: {}, &quot;lang&quot;: {}}); var option = {&quot;chart&quot;: {&quot;renderTo&quot;: &quot;container&quot;}, &quot;colors&quot;: {}, &quot;credits&quot;: {&quot;enabled&quot;: false}, &quot;exporting&quot;: {}, &quot;labels&quot;: {}, &quot;legend&quot;: {}, &quot;loading&quot;: {}, &quot;navigation&quot;: {}, &quot;navigator&quot;: {}, &quot;plotOptions&quot;: {}, &quot;rangeSelector&quot;: {&quot;selected&quot;: 0}, &quot;scrollbar&quot;: {}, &quot;series&quot;: {}, &quot;subtitle&quot;: {}, &quot;title&quot;: {&quot;text&quot;: &quot;\\u67ef\\u6587\\u54f2\\u8072\\u91cf\\u8b8a\\u5316\\u5716&quot;}, &quot;tooltip&quot;: {&quot;style&quot;: {&quot;width&quot;: &quot;200px&quot;}, &quot;valueDecimals&quot;: 4, &quot;shared&quot;: true}, &quot;xAxis&quot;: {}, &quot;yAxis&quot;: {&quot;title&quot;: {&quot;text&quot;: &quot;\\u8072\\u91cf&quot;}}}; var chart = new Highcharts.StockChart(option); var data = [{&quot;data&quot;: [[Date.UTC(2018,5,7,0,0,0,0.0), 0.0001774622892635315], [Date.UTC(2018,5,8,0,0,0,0.0), 0.00021972078558631645], [Date.UTC(2018,5,9,0,0,0,0.0), 0.0005456588027603917], [Date.UTC(2018,5,10,0,0,0,0.0), 0.0], [Date.UTC(2018,5,11,0,0,0,0.0), 0.00028557394651771133], [Date.UTC(2018,5,12,0,0,0,0.0), 6.069213308570942e-06], [Date.UTC(2018,5,13,0,0,0,0.0), 0.00023407196040839986], [Date.UTC(2018,5,14,0,0,0,0.0), 0.0007321122746466906], [Date.UTC(2018,5,15,0,0,0,0.0), 0.00022065313327449248], [Date.UTC(2018,5,16,0,0,0,0.0), 0.00010860711376595167], [Date.UTC(2018,5,17,0,0,0,0.0), 0.0014189810737282994], [Date.UTC(2018,5,18,0,0,0,0.0), 0.005777550855883697], [Date.UTC(2018,5,19,0,0,0,0.0), 0.00016845597144023375], [Date.UTC(2018,5,20,0,0,0,0.0), 2.2260250149561056e-05], [Date.UTC(2018,5,21,0,0,0,0.0), 0.00016105091087711008], [Date.UTC(2018,5,22,0,0,0,0.0), 0.0013647876049289831], [Date.UTC(2018,5,23,0,0,0,0.0), 0.003634561374525031], [Date.UTC(2018,5,24,0,0,0,0.0), 0.0014463653689082495], [Date.UTC(2018,5,25,0,0,0,0.0), 0.0012216491907909733], [Date.UTC(2018,5,26,0,0,0,0.0), 0.0005150290378276566], [Date.UTC(2018,5,27,0,0,0,0.0), 0.00011431510959961132], [Date.UTC(2018,5,28,0,0,0,0.0), 0.0020979020979020975], [Date.UTC(2018,5,29,0,0,0,0.0), 0.00019305592681695326], [Date.UTC(2018,5,30,0,0,0,0.0), 0.000952567730367299], [Date.UTC(2018,6,1,0,0,0,0.0), 0.00022011886418666079], [Date.UTC(2018,6,2,0,0,0,0.0), 0.0013165318788790673], [Date.UTC(2018,6,3,0,0,0,0.0), 0.00034565565419880656], [Date.UTC(2018,6,4,0,0,0,0.0), 0.00022417943321834796], [Date.UTC(2018,6,5,0,0,0,0.0), 0.0004042854255104103], [Date.UTC(2018,6,6,0,0,0,0.0), 0.0002446662752006263], [Date.UTC(2018,6,7,0,0,0,0.0), 0.0008024072216649949], [Date.UTC(2018,6,8,0,0,0,0.0), 0.001790830945558739], [Date.UTC(2018,6,9,0,0,0,0.0), 0.00010318320177475106], [Date.UTC(2018,6,10,0,0,0,0.0), 0.00018974260512079151], [Date.UTC(2018,6,11,0,0,0,0.0), 0.00039742419443978714], [Date.UTC(2018,6,12,0,0,0,0.0), 0.00040470010326830214], [Date.UTC(2018,6,13,0,0,0,0.0), 0.0005693158832433591], [Date.UTC(2018,6,14,0,0,0,0.0), 0.0006240898689411276], [Date.UTC(2018,6,15,0,0,0,0.0), 0.00029416090601559053], [Date.UTC(2018,6,16,0,0,0,0.0), 0.0003247825916530874], [Date.UTC(2018,6,17,0,0,0,0.0), 0.000656526972316446], [Date.UTC(2018,6,18,0,0,0,0.0), 7.095061206728011e-05], [Date.UTC(2018,6,19,0,0,0,0.0), 0.0009368216611447503], [Date.UTC(2018,6,20,0,0,0,0.0), 0.0006778384485031068], [Date.UTC(2018,6,21,0,0,0,0.0), 0.0004768211920529802], [Date.UTC(2018,6,22,0,0,0,0.0), 0.0006460875807609478], [Date.UTC(2018,6,23,0,0,0,0.0), 0.00010510384259648531], [Date.UTC(2018,6,24,0,0,0,0.0), 0.00014966923099949113], [Date.UTC(2018,6,25,0,0,0,0.0), 0.00027883542940656126], [Date.UTC(2018,6,26,0,0,0,0.0), 0.00020829807454467346], [Date.UTC(2018,6,27,0,0,0,0.0), 0.0007999999999999999], [Date.UTC(2018,6,28,0,0,0,0.0), 0.0005500096251684404], [Date.UTC(2018,6,29,0,0,0,0.0), 0.00127543583464521], [Date.UTC(2018,6,30,0,0,0,0.0), 0.00010347473922928566], [Date.UTC(2018,6,31,0,0,0,0.0), 0.0007462267856140941], [Date.UTC(2018,7,1,0,0,0,0.0), 0.0004012903026654937], [Date.UTC(2018,7,2,0,0,0,0.0), 0.001272600086095566], [Date.UTC(2018,7,3,0,0,0,0.0), 0.00026949687383626353], [Date.UTC(2018,7,4,0,0,0,0.0), 0.00025963036329018977], [Date.UTC(2018,7,5,0,0,0,0.0), 0.00017643539845453617], [Date.UTC(2018,7,6,0,0,0,0.0), 0.001287058783484802], [Date.UTC(2018,7,7,0,0,0,0.0), 0.0014295080967338602], [Date.UTC(2018,7,8,0,0,0,0.0), 0.0013383461864981132], [Date.UTC(2018,7,9,0,0,0,0.0), 0.0016974817472488247], [Date.UTC(2018,7,10,0,0,0,0.0), 0.001032086050174433], [Date.UTC(2018,7,11,0,0,0,0.0), 0.00033057851239669424], [Date.UTC(2018,7,12,0,0,0,0.0), 0.000842510681831859], [Date.UTC(2018,7,13,0,0,0,0.0), 0.00022797167787154917], [Date.UTC(2018,7,14,0,0,0,0.0), 0.0006669671022983326], [Date.UTC(2018,7,15,0,0,0,0.0), 0.0011039402173913036], [Date.UTC(2018,7,16,0,0,0,0.0), 0.00010138921661160925], [Date.UTC(2018,7,17,0,0,0,0.0), 0.0009363711730917274], [Date.UTC(2018,7,18,0,0,0,0.0), 0.00454406364749082], [Date.UTC(2018,7,19,0,0,0,0.0), 0.0006456778325886517], [Date.UTC(2018,7,20,0,0,0,0.0), 0.0005984509593700322], [Date.UTC(2018,7,21,0,0,0,0.0), 0.0008372058340027588], [Date.UTC(2018,7,22,0,0,0,0.0), 0.0009485965505579979], [Date.UTC(2018,7,23,0,0,0,0.0), 0.0013979173058110523], [Date.UTC(2018,7,24,0,0,0,0.0), 0.00011749500646222535], [Date.UTC(2018,7,25,0,0,0,0.0), 0.00012358757062146892], [Date.UTC(2018,7,26,0,0,0,0.0), 0.0028098856887412995], [Date.UTC(2018,7,27,0,0,0,0.0), 0.0005831533477321814], [Date.UTC(2018,7,28,0,0,0,0.0), 0.0006993499445133812], [Date.UTC(2018,7,29,0,0,0,0.0), 0.0005039079671066033], [Date.UTC(2018,7,30,0,0,0,0.0), 0.0010485320551228284], [Date.UTC(2018,7,31,0,0,0,0.0), 0.00011609647005627623], [Date.UTC(2018,8,1,0,0,0,0.0), 0.0005998126693436632], [Date.UTC(2018,8,2,0,0,0,0.0), 0.00033921302578019], [Date.UTC(2018,8,3,0,0,0,0.0), 0.0008763551046525646], [Date.UTC(2018,8,4,0,0,0,0.0), 0.00267213066682306], [Date.UTC(2018,8,5,0,0,0,0.0), 0.00023481615386048937], [Date.UTC(2018,8,6,0,0,0,0.0), 0.0012399914972011626], [Date.UTC(2018,8,7,0,0,0,0.0), 0.002167607359393489], [Date.UTC(2018,8,8,0,0,0,0.0), 0.0010306242638398117], [Date.UTC(2018,8,9,0,0,0,0.0), 0.0016783929387611358], [Date.UTC(2018,8,10,0,0,0,0.0), 0.0010934328222209847], [Date.UTC(2018,8,11,0,0,0,0.0), 0.0010407374368123698], [Date.UTC(2018,8,12,0,0,0,0.0), 0.00016371971185330714], [Date.UTC(2018,8,13,0,0,0,0.0), 0.0005126943111439234], [Date.UTC(2018,8,14,0,0,0,0.0), 0.0005751855372792126], [Date.UTC(2018,8,15,0,0,0,0.0), 0.0011280315848843769], [Date.UTC(2018,8,16,0,0,0,0.0), 0.0011516403196953527], [Date.UTC(2018,8,17,0,0,0,0.0), 0.0003560204282066391], [Date.UTC(2018,8,18,0,0,0,0.0), 0.00020610482491395125], [Date.UTC(2018,8,19,0,0,0,0.0), 0.0005368684777497841], [Date.UTC(2018,8,20,0,0,0,0.0), 0.00017228012748729435], [Date.UTC(2018,8,21,0,0,0,0.0), 0.00019146374029455185], [Date.UTC(2018,8,22,0,0,0,0.0), 0.001173236792705819], [Date.UTC(2018,8,23,0,0,0,0.0), 0.0004682034757222727], [Date.UTC(2018,8,24,0,0,0,0.0), 0.0005407232173031429], [Date.UTC(2018,8,25,0,0,0,0.0), 0.00011495385423851285], [Date.UTC(2018,8,26,0,0,0,0.0), 0.00013867722365278726], [Date.UTC(2018,8,27,0,0,0,0.0), 0.00013405804117369306], [Date.UTC(2018,8,28,0,0,0,0.0), 0.00042814764977522243], [Date.UTC(2018,8,29,0,0,0,0.0), 0.0011782160935590851], [Date.UTC(2018,8,30,0,0,0,0.0), 0.00026019775029022057], [Date.UTC(2018,9,1,0,0,0,0.0), 0.0008357937769702475], [Date.UTC(2018,9,2,0,0,0,0.0), 0.0009565362280382366], [Date.UTC(2018,9,3,0,0,0,0.0), 0.001710399227301996], [Date.UTC(2018,9,4,0,0,0,0.0), 0.0016397135671525483], [Date.UTC(2018,9,5,0,0,0,0.0), 0.00150519978106185], [Date.UTC(2018,9,6,0,0,0,0.0), 0.0005053923559406164], [Date.UTC(2018,9,7,0,0,0,0.0), 0.0009159969173180668], [Date.UTC(2018,9,8,0,0,0,0.0), 0.00046124088677280175], [Date.UTC(2018,9,9,0,0,0,0.0), 0.00015136035115601465], [Date.UTC(2018,9,10,0,0,0,0.0), 0.0008507636122177956], [Date.UTC(2018,9,11,0,0,0,0.0), 0.0006601853234515119], [Date.UTC(2018,9,12,0,0,0,0.0), 0.00016687900581544563], [Date.UTC(2018,9,13,0,0,0,0.0), 0.0003949933312814199], [Date.UTC(2018,9,14,0,0,0,0.0), 0.0008110222697173827], [Date.UTC(2018,9,15,0,0,0,0.0), 0.000552666260433347], [Date.UTC(2018,9,16,0,0,0,0.0), 0.00014568228380749083], [Date.UTC(2018,9,17,0,0,0,0.0), 0.00024111423141292938], [Date.UTC(2018,9,18,0,0,0,0.0), 0.002365047093481599], [Date.UTC(2018,9,19,0,0,0,0.0), 0.0014129826524902074], [Date.UTC(2018,9,20,0,0,0,0.0), 0.000824991750082499], [Date.UTC(2018,9,21,0,0,0,0.0), 0.0028666576340804235], [Date.UTC(2018,9,22,0,0,0,0.0), 0.0008633205068572316], [Date.UTC(2018,9,23,0,0,0,0.0), 0.00024323502584372152], [Date.UTC(2018,9,24,0,0,0,0.0), 0.0012013517819180887], [Date.UTC(2018,9,25,0,0,0,0.0), 0.00035635378804076687], [Date.UTC(2018,9,26,0,0,0,0.0), 0.000371393965349947], [Date.UTC(2018,9,27,0,0,0,0.0), 0.0006960000467899192], [Date.UTC(2018,9,28,0,0,0,0.0), 0.0032658417697787783], [Date.UTC(2018,9,29,0,0,0,0.0), 0.0008647360633371125], [Date.UTC(2018,9,30,0,0,0,0.0), 0.0006774285428358082], [Date.UTC(2018,9,31,0,0,0,0.0), 0.00044941190239335246], [Date.UTC(2018,10,1,0,0,0,0.0), 0.0005792148742379704], [Date.UTC(2018,10,2,0,0,0,0.0), 0.0005106073772946646], [Date.UTC(2018,10,3,0,0,0,0.0), 0.0003676657031289619], [Date.UTC(2018,10,4,0,0,0,0.0), 0.001354935608602563], [Date.UTC(2018,10,5,0,0,0,0.0), 0.0012972236416283426], [Date.UTC(2018,10,6,0,0,0,0.0), 0.000983411256968171], [Date.UTC(2018,10,7,0,0,0,0.0), 0.0008050031753592123], [Date.UTC(2018,10,8,0,0,0,0.0), 0.0010515474624385515], [Date.UTC(2018,10,9,0,0,0,0.0), 0.0009045365989423877], [Date.UTC(2018,10,10,0,0,0,0.0), 0.004401388434392914], [Date.UTC(2018,10,11,0,0,0,0.0), 0.0013729803703926592], [Date.UTC(2018,10,12,0,0,0,0.0), 0.00017340038148083925], [Date.UTC(2018,10,13,0,0,0,0.0), 0.00030160923118834044], [Date.UTC(2018,10,14,0,0,0,0.0), 0.0006852832611137859], [Date.UTC(2018,10,15,0,0,0,0.0), 0.0005386124633286341], [Date.UTC(2018,10,16,0,0,0,0.0), 0.0005464033002759337], [Date.UTC(2018,10,17,0,0,0,0.0), 0.0010038083881879134], [Date.UTC(2018,10,18,0,0,0,0.0), 0.0009098742029984489], [Date.UTC(2018,10,19,0,0,0,0.0), 0.0006151766354394907], [Date.UTC(2018,10,20,0,0,0,0.0), 0.0005200341005967605], [Date.UTC(2018,10,21,0,0,0,0.0), 0.001142530705512711], [Date.UTC(2018,10,22,0,0,0,0.0), 0.0008447063137155706], [Date.UTC(2018,10,23,0,0,0,0.0), 0.0009459383164043048], [Date.UTC(2018,10,24,0,0,0,0.0), 0.0006735720273021191], [Date.UTC(2018,10,25,0,0,0,0.0), 0.0010267510267510263], [Date.UTC(2018,10,26,0,0,0,0.0), 0.0003580364438977953], [Date.UTC(2018,10,27,0,0,0,0.0), 0.0011646252544507097], [Date.UTC(2018,10,28,0,0,0,0.0), 0.0001487787043572718], [Date.UTC(2018,10,29,0,0,0,0.0), 0.0006136517049289868], [Date.UTC(2018,10,30,0,0,0,0.0), 0.0003878766983073491], [Date.UTC(2018,11,1,0,0,0,0.0), 0.0005934483304320303], [Date.UTC(2018,11,2,0,0,0,0.0), 0.0006967578984039888], [Date.UTC(2018,11,3,0,0,0,0.0), 0.00011482684786793561], [Date.UTC(2018,11,4,0,0,0,0.0), 0.0005768517452643157], [Date.UTC(2018,11,5,0,0,0,0.0), 0.0005064919049380759], [Date.UTC(2018,11,6,0,0,0,0.0), 0.0007390983000739098], [Date.UTC(2018,11,7,0,0,0,0.0), 0.00014037433155080216], [Date.UTC(2018,11,8,0,0,0,0.0), 7.202535292422933e-05], [Date.UTC(2018,11,9,0,0,0,0.0), 0.0018461256556494645], [Date.UTC(2018,11,10,0,0,0,0.0), 0.0019163806708584878], [Date.UTC(2018,11,11,0,0,0,0.0), 0.00021330584058054742], [Date.UTC(2018,11,12,0,0,0,0.0), 0.00022928011255569166], [Date.UTC(2018,11,13,0,0,0,0.0), 0.0032988650693568733], [Date.UTC(2018,11,14,0,0,0,0.0), 0.0005520647949733049], [Date.UTC(2018,11,15,0,0,0,0.0), 0.0027626694293360968], [Date.UTC(2018,11,16,0,0,0,0.0), 0.0005790979697506473], [Date.UTC(2018,11,17,0,0,0,0.0), 0.0005563869383369785], [Date.UTC(2018,11,18,0,0,0,0.0), 0.0007474698146773173], [Date.UTC(2018,11,19,0,0,0,0.0), 0.00040822169088605324], [Date.UTC(2018,11,20,0,0,0,0.0), 0.002208757745101926], [Date.UTC(2018,11,21,0,0,0,0.0), 0.0005877327866051598], [Date.UTC(2018,11,22,0,0,0,0.0), 0.0004010702105747983], [Date.UTC(2018,11,23,0,0,0,0.0), 0.0016604223433242503], [Date.UTC(2018,11,24,0,0,0,0.0), 0.0002691773572901182], [Date.UTC(2018,11,25,0,0,0,0.0), 0.00032695983431500487], [Date.UTC(2018,11,26,0,0,0,0.0), 0.0001115502294747578], [Date.UTC(2018,11,27,0,0,0,0.0), 0.00018091361374943462], [Date.UTC(2018,11,28,0,0,0,0.0), 0.00014999250037498125], [Date.UTC(2018,11,29,0,0,0,0.0), 3.497114880223815e-05], [Date.UTC(2018,11,30,0,0,0,0.0), 3.8557933294775396e-05], [Date.UTC(2018,11,31,0,0,0,0.0), 0.0004672387745884406], [Date.UTC(2019,0,1,0,0,0,0.0), 0.0002515391802218336], [Date.UTC(2019,0,2,0,0,0,0.0), 7.254577638489888e-06], [Date.UTC(2019,0,3,0,0,0,0.0), 0.0002120129817179575], [Date.UTC(2019,0,4,0,0,0,0.0), 0.00025230212819419645], [Date.UTC(2019,0,5,0,0,0,0.0), 0.0006024474427361154], [Date.UTC(2019,0,6,0,0,0,0.0), 0.0], [Date.UTC(2019,0,7,0,0,0,0.0), 0.00043265664917726567], [Date.UTC(2019,0,8,0,0,0,0.0), 0.0003916615261091365], [Date.UTC(2019,0,9,0,0,0,0.0), 0.00036315765581733167], [Date.UTC(2019,0,10,0,0,0,0.0), 0.00010385968556480196], [Date.UTC(2019,0,11,0,0,0,0.0), 0.0002684158432451475], [Date.UTC(2019,0,12,0,0,0,0.0), 0.0001175234863342221], [Date.UTC(2019,0,13,0,0,0,0.0), 0.00011681970047428798], [Date.UTC(2019,0,14,0,0,0,0.0), 0.00023288309268747092], [Date.UTC(2019,0,15,0,0,0,0.0), 0.00012326481074110597], [Date.UTC(2019,0,16,0,0,0,0.0), 0.0002646030651619068], [Date.UTC(2019,0,17,0,0,0,0.0), 0.0002586369051351182], [Date.UTC(2019,0,18,0,0,0,0.0), 0.0014319536945746724], [Date.UTC(2019,0,19,0,0,0,0.0), 0.0019213404976538334], [Date.UTC(2019,0,20,0,0,0,0.0), 0.002750594638430573], [Date.UTC(2019,0,21,0,0,0,0.0), 0.0021314952279957574], [Date.UTC(2019,0,22,0,0,0,0.0), 0.0015516427173986372]], &quot;type&quot;: &quot;line&quot;, &quot;id&quot;: &quot;dataseries&quot;, &quot;name&quot;: &quot;\\u67ef\\u6587\\u54f2\\u8072\\u91cf&quot;}, {&quot;data&quot;: [{&quot;x&quot;: Date.UTC(2019,0,6,0,0,0,0.0), &quot;title&quot;: &quot;\\u4e5d\\u4e8c\\u5171\\u8b58&quot;, &quot;text&quot;: &quot;\\u4e5d\\u4e8c\\u5171\\u8b58&quot;}, {&quot;x&quot;: Date.UTC(2019,0,2,0,0,0,0.0), &quot;title&quot;: &quot;\\u5169\\u5cb8\\u95dc\\u4fc2&quot;, &quot;text&quot;: &quot;\\u5169\\u5cb8\\u95dc\\u4fc2&quot;}, {&quot;x&quot;: Date.UTC(2018,6,21,0,0,0,0.0), &quot;title&quot;: &quot;\\u8f49\\u578b\\u6b63\\u7fa9&quot;, &quot;text&quot;: &quot;\\u8f49\\u578b\\u6b63\\u7fa9&quot;}, {&quot;x&quot;: Date.UTC(2018,11,1,0,0,0,0.0), &quot;title&quot;: &quot;\\u7acb\\u59d4\\u88dc\\u9078&quot;, &quot;text&quot;: &quot;\\u7acb\\u59d4\\u88dc\\u9078&quot;}, {&quot;x&quot;: Date.UTC(2018,10,24,0,0,0,0.0), &quot;title&quot;: &quot;\\u4e5d\\u5408\\u4e00\\u9078\\u8209&quot;, &quot;text&quot;: &quot;\\u4e5d\\u5408\\u4e00\\u9078\\u8209&quot;}, {&quot;x&quot;: Date.UTC(2018,11,20,0,0,0,0.0), &quot;title&quot;: &quot;\\u5169\\u5cb8\\u4e00\\u5bb6\\u89aa&quot;, &quot;text&quot;: &quot;\\u5169\\u5cb8\\u4e00\\u5bb6\\u89aa&quot;}, {&quot;x&quot;: Date.UTC(2018,9,12,0,0,0,0.0), &quot;title&quot;: &quot;\\u6df1\\u6fb3\\u96fb\\u5ee0&quot;, &quot;text&quot;: &quot;\\u6df1\\u6fb3\\u96fb\\u5ee0&quot;}, {&quot;x&quot;: Date.UTC(2018,11,24,0,0,0,0.0), &quot;title&quot;: &quot;\\u53f0\\u5927\\u6821\\u9577&quot;, &quot;text&quot;: &quot;\\u53f0\\u5927\\u6821\\u9577&quot;}, {&quot;x&quot;: Date.UTC(2018,11,9,0,0,0,0.0), &quot;title&quot;: &quot;\\u96d9\\u57ce\\u8ad6\\u58c7&quot;, &quot;text&quot;: &quot;\\u96d9\\u57ce\\u8ad6\\u58c7&quot;}, {&quot;x&quot;: Date.UTC(2018,10,23,0,0,0,0.0), &quot;title&quot;: &quot;\\u9078\\u524d\\u4e4b\\u591c&quot;, &quot;text&quot;: &quot;\\u9078\\u524d\\u4e4b\\u591c&quot;}, {&quot;x&quot;: Date.UTC(2018,11,18,0,0,0,0.0), &quot;title&quot;: &quot;\\u975e\\u6d32\\u8c6c\\u761f&quot;, &quot;text&quot;: &quot;\\u975e\\u6d32\\u8c6c\\u761f&quot;}, {&quot;x&quot;: Date.UTC(2018,10,19,0,0,0,0.0), &quot;title&quot;: &quot;\\u6771\\u5967\\u6b63\\u540d&quot;, &quot;text&quot;: &quot;\\u6771\\u5967\\u6b63\\u540d&quot;}, {&quot;x&quot;: Date.UTC(2018,10,10,0,0,0,0.0), &quot;title&quot;: &quot;\\u53f0\\u5317\\u5e02\\u9577\\u9078\\u8209&quot;, &quot;text&quot;: &quot;\\u53f0\\u5317\\u5e02\\u9577\\u9078\\u8209&quot;}, {&quot;x&quot;: Date.UTC(2018,5,30,0,0,0,0.0), &quot;title&quot;: &quot;\\u6587\\u5927\\u5bbf\\u820d&quot;, &quot;text&quot;: &quot;\\u6587\\u5927\\u5bbf\\u820d&quot;}, {&quot;x&quot;: Date.UTC(2018,5,21,0,0,0,0.0), &quot;title&quot;: &quot;\\u5e74\\u91d1\\u6539\\u9769&quot;, &quot;text&quot;: &quot;\\u5e74\\u91d1\\u6539\\u9769&quot;}, {&quot;x&quot;: Date.UTC(2018,8,24,0,0,0,0.0), &quot;title&quot;: &quot;\\u6df1\\u6fb3\\u71c3\\u7164&quot;, &quot;text&quot;: &quot;\\u6df1\\u6fb3\\u71c3\\u7164&quot;}, {&quot;x&quot;: Date.UTC(2018,6,25,0,0,0,0.0), &quot;title&quot;: &quot;\\u6771\\u4e9e\\u9752\\u904b&quot;, &quot;text&quot;: &quot;\\u6771\\u4e9e\\u9752\\u904b&quot;}, {&quot;x&quot;: Date.UTC(2019,0,8,0,0,0,0.0), &quot;title&quot;: &quot;\\u7e3d\\u7d71\\u5927\\u9078&quot;, &quot;text&quot;: &quot;\\u7e3d\\u7d71\\u5927\\u9078&quot;}, {&quot;x&quot;: Date.UTC(2018,8,4,0,0,0,0.0), &quot;title&quot;: &quot;\\u5668\\u5b98\\u79fb\\u690d&quot;, &quot;text&quot;: &quot;\\u5668\\u5b98\\u79fb\\u690d&quot;}, {&quot;x&quot;: Date.UTC(2018,11,24,0,0,0,0.0), &quot;title&quot;: &quot;\\u53f0\\u5927\\u6821\\u9577\\u9074\\u9078&quot;, &quot;text&quot;: &quot;\\u53f0\\u5927\\u6821\\u9577\\u9074\\u9078&quot;}, {&quot;x&quot;: Date.UTC(2018,9,9,0,0,0,0.0), &quot;title&quot;: &quot;\\u5730\\u65b9\\u9078\\u8209&quot;, &quot;text&quot;: &quot;\\u5730\\u65b9\\u9078\\u8209&quot;}, {&quot;x&quot;: Date.UTC(2018,5,18,0,0,0,0.0), &quot;title&quot;: &quot;\\u793e\\u6703\\u4f4f\\u5b85&quot;, &quot;text&quot;: &quot;\\u793e\\u6703\\u4f4f\\u5b85&quot;}, {&quot;x&quot;: Date.UTC(2018,11,10,0,0,0,0.0), &quot;title&quot;: &quot;\\u767d\\u8272\\u6050\\u6016&quot;, &quot;text&quot;: &quot;\\u767d\\u8272\\u6050\\u6016&quot;}, {&quot;x&quot;: Date.UTC(2018,8,22,0,0,0,0.0), &quot;title&quot;: &quot;\\u4e0d\\u7576\\u9ee8\\u7522&quot;, &quot;text&quot;: &quot;\\u4e0d\\u7576\\u9ee8\\u7522&quot;}, {&quot;x&quot;: Date.UTC(2018,8,30,0,0,0,0.0), &quot;title&quot;: &quot;\\u516c\\u6295\\u9023\\u7f72&quot;, &quot;text&quot;: &quot;\\u516c\\u6295\\u9023\\u7f72&quot;}, {&quot;x&quot;: Date.UTC(2019,0,6,0,0,0,0.0), &quot;title&quot;: &quot;\\u4e00\\u4e2d\\u5404\\u8868&quot;, &quot;text&quot;: &quot;\\u4e00\\u4e2d\\u5404\\u8868&quot;}, {&quot;x&quot;: Date.UTC(2018,10,30,0,0,0,0.0), &quot;title&quot;: &quot;\\u5a5a\\u59fb\\u5e73\\u6b0a&quot;, &quot;text&quot;: &quot;\\u5a5a\\u59fb\\u5e73\\u6b0a&quot;}, {&quot;x&quot;: Date.UTC(2018,11,31,0,0,0,0.0), &quot;title&quot;: &quot;2020\\u7e3d\\u7d71\\u5927\\u9078&quot;, &quot;text&quot;: &quot;2020\\u7e3d\\u7d71\\u5927\\u9078&quot;}, {&quot;x&quot;: Date.UTC(2018,10,30,0,0,0,0.0), &quot;title&quot;: &quot;\\u975e\\u6838\\u5bb6\\u5712&quot;, &quot;text&quot;: &quot;\\u975e\\u6838\\u5bb6\\u5712&quot;}, {&quot;x&quot;: Date.UTC(2018,6,30,0,0,0,0.0), &quot;title&quot;: &quot;\\u6771\\u4eac\\u5967\\u904b&quot;, &quot;text&quot;: &quot;\\u6771\\u4eac\\u5967\\u904b&quot;}, {&quot;x&quot;: Date.UTC(2019,0,22,0,0,0,0.0), &quot;title&quot;: &quot;\\u6a4b\\u982d\\u4e8b\\u4ef640&quot;, &quot;text&quot;: &quot;\\u6a4b\\u982d\\u4e8b\\u4ef640&quot;}, {&quot;x&quot;: Date.UTC(2018,6,12,0,0,0,0.0), &quot;title&quot;: &quot;\\u5167\\u95a3\\u6539\\u7d44&quot;, &quot;text&quot;: &quot;\\u5167\\u95a3\\u6539\\u7d44&quot;}], &quot;type&quot;: &quot;flags&quot;, &quot;name&quot;: &quot;Series 2&quot;, &quot;onSeries&quot;: &quot;dataseries&quot;, &quot;shape&quot;: &quot;squarepin&quot;}]; var dataLen = data.length; for (var ix = 0; ix &lt; dataLen; ix++) { chart.addSeries(data[ix]); } }); &lt;/script&gt; &lt;/body&gt; &lt;/html&gt;\" height=520 width=820></iframe>"
      ],
      "text/plain": [
       "<highcharts.highstock.highstock.Highstock at 0x1072480b8>"
      ]
     },
     "execution_count": 7,
     "metadata": {},
     "output_type": "execute_result"
    }
   ],
   "source": [
    "H = Highstock()\n",
    "\n",
    "name = '柯文哲' #type the name you want to observe. ex:柯文哲, 韓國瑜\n",
    "\n",
    "start_date = '2018-06-07'\n",
    "start_date = datetime.strptime(start_date, \"%Y-%m-%d\")\n",
    "people_data = []\n",
    "for day_index in range(len(people[name])):\n",
    "    people_data.append([start_date + timedelta(days = day_index), people[name][day_index]])\n",
    "flags = []\n",
    "#取該事件中聲量最大日期作為flag的日期\n",
    "for i in events:\n",
    "    flags.append({'x':datetime.strptime(max(events[i].items(), key=operator.itemgetter(1))[0], \"%Y-%m-%d\"),\n",
    "                 'title' : i,\n",
    "                 'text' : i})\n",
    "H.add_data_set(people_data, 'line', name +'聲量', id = 'dataseries')\n",
    "H.add_data_set(flags, 'flags', onSeries = 'dataseries',\n",
    "                shape = 'squarepin',\n",
    "                width = 50)\n",
    "\n",
    "options = {\n",
    "    'rangeSelector' : {\n",
    "        'selected' : 0\n",
    "    },\n",
    "\n",
    "    'title' : {\n",
    "        'text' : name + '聲量變化圖'\n",
    "    },\n",
    "    'tooltip': {\n",
    "                'style': {\n",
    "                    'width': '200px'\n",
    "                },\n",
    "                'valueDecimals': 4,\n",
    "                'shared' : True\n",
    "            },\n",
    "\n",
    "    'yAxis' : {\n",
    "        'title' : {\n",
    "            'text' : '聲量'\n",
    "        }\n",
    "    },\n",
    "\n",
    "}\n",
    "\n",
    "H.set_dict_options(options)\n",
    "\n",
    "H"
   ]
  },
  {
   "cell_type": "code",
   "execution_count": null,
   "metadata": {},
   "outputs": [],
   "source": []
  }
 ],
 "metadata": {
  "kernelspec": {
   "display_name": "Python 3",
   "language": "python",
   "name": "python3"
  },
  "language_info": {
   "codemirror_mode": {
    "name": "ipython",
    "version": 3
   },
   "file_extension": ".py",
   "mimetype": "text/x-python",
   "name": "python",
   "nbconvert_exporter": "python",
   "pygments_lexer": "ipython3",
   "version": "3.7.2"
  }
 },
 "nbformat": 4,
 "nbformat_minor": 2
}
